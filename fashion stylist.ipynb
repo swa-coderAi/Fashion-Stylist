{
 "cells": [
  {
   "cell_type": "markdown",
   "metadata": {},
   "source": [
    "# 🎨 AI Fashion Stylist — RAG + Gemini 2.0 Flash\n",
    "\n",
    "## 📌 Main Idea\n",
    "\n",
    "This project uses Generative AI and Retrieval-Augmented Generation (RAG) techniques to build an AI-powered fashion recommendation system — a stylist agent that understands semantic meaning from product descriptions and images, offering outfit suggestions contextually using AI.\n",
    "\n",
    "We generate text embeddings from product metadata (name, category, color, etc.) using sentence-transformers. Then, we use cosine similarity-based vector search to find the most relevant products for a given user query.\n",
    "\n",
    "Next, we pass these retrieved product details to Gemini 2.0 Flash, which acts as a stylist, providing contextual outfit recommendations, styling suggestions, and more.\n",
    "\n",
    "## 🧠 Embeddings & Retrieval\n",
    "- Product descriptions are created by combining:\n",
    "\n",
    "    - productDisplayName\n",
    "    - masterCategory\n",
    "    - subCategory\n",
    "    - articleType\n",
    "    - baseColour\n",
    "    - usage\n",
    "\n",
    "- Embeddings are generated using all-MiniLM-L6-v2 model from sentence-transformers.\n",
    "\n",
    "- Cosine similarity is computed between the user query embedding and product embeddings.\n",
    "\n",
    "- Top 5 matching products are retrieved.\n",
    "\n",
    "## 👗 Fashion AI Agent\n",
    "- Uses Gemini 2.0 Flash API.\n",
    "\n",
    "- Receives top 5 product details from vector search.\n",
    "\n",
    "- Provides:\n",
    "\n",
    "   - Best matching product\n",
    "\n",
    "   - Reasoning for the match\n",
    "\n",
    "   - Styling advice (accessories, shoes, bags)\n",
    "\n",
    "   - Occasion and color coordination tips\n",
    "\n",
    "## 📑 Notebook Features\n",
    "- ✅ Merged product dataset with image filenames\n",
    "\n",
    "- ✅ Embedded product descriptions using sentence-transformers\n",
    "\n",
    "- ✅ Cosine similarity-based vector search retrieval\n",
    "\n",
    "- ✅ Gemini 2.0 Flash AI stylist integration\n",
    "\n",
    "- ✅ Image preview function for local or hosted images\n",
    "\n",
    "- ✅ Seamlessly runs on Google Colab or Kaggle\n",
    "\n",
    "## ✅ Progress and Checklist\n",
    " - Prepare dataset merged with image filenames and selected columns\n",
    "\n",
    " - Embed name + description with sentence-transformers\n",
    "\n",
    " - Add product metadata to vectors\n",
    "\n",
    " - Retrieve top-k results with cosine similarity\n",
    "\n",
    " - AI stylist agent using Gemini 2.0 Flash\n",
    "\n",
    " - Image preview integration\n",
    "\n",
    " - (Optional) Multi-modal image embeddings (CLIP / NomicAI)\n",
    "\n",
    " - (Optional) Streamlit/Gradio frontend\n",
    "\n",
    " - (Optional) Write a blog post 📖"
   ]
  },
  {
   "cell_type": "code",
   "execution_count": 2,
   "metadata": {
    "execution": {
     "iopub.execute_input": "2025-04-20T18:31:40.744344Z",
     "iopub.status.busy": "2025-04-20T18:31:40.744030Z",
     "iopub.status.idle": "2025-04-20T18:31:46.274460Z",
     "shell.execute_reply": "2025-04-20T18:31:46.272870Z",
     "shell.execute_reply.started": "2025-04-20T18:31:40.744315Z"
    },
    "trusted": true
   },
   "outputs": [
    {
     "name": "stdout",
     "output_type": "stream",
     "text": [
      "\u001b[33mWARNING: Skipping jupyterlab as it is not installed.\u001b[0m\u001b[33m\n",
      "\u001b[0m"
     ]
    }
   ],
   "source": [
    "!pip uninstall -qqy jupyterlab  # Remove unused packages from Kaggle's base image that conflict\n",
    "!pip install -U -q \"google-genai==1.7.0\""
   ]
  },
  {
   "cell_type": "code",
   "execution_count": 3,
   "metadata": {
    "execution": {
     "iopub.execute_input": "2025-04-20T18:32:02.475023Z",
     "iopub.status.busy": "2025-04-20T18:32:02.474089Z",
     "iopub.status.idle": "2025-04-20T18:32:40.840040Z",
     "shell.execute_reply": "2025-04-20T18:32:40.838944Z",
     "shell.execute_reply.started": "2025-04-20T18:32:02.474983Z"
    },
    "trusted": true
   },
   "outputs": [
    {
     "name": "stderr",
     "output_type": "stream",
     "text": [
      "2025-04-20 18:32:20.570498: E external/local_xla/xla/stream_executor/cuda/cuda_fft.cc:477] Unable to register cuFFT factory: Attempting to register factory for plugin cuFFT when one has already been registered\n",
      "WARNING: All log messages before absl::InitializeLog() is called are written to STDERR\n",
      "E0000 00:00:1745173940.803471      31 cuda_dnn.cc:8310] Unable to register cuDNN factory: Attempting to register factory for plugin cuDNN when one has already been registered\n",
      "E0000 00:00:1745173940.868590      31 cuda_blas.cc:1418] Unable to register cuBLAS factory: Attempting to register factory for plugin cuBLAS when one has already been registered\n"
     ]
    }
   ],
   "source": [
    "import pandas as pd\n",
    "import numpy as np\n",
    "from sentence_transformers import SentenceTransformer\n",
    "import google.generativeai as genai\n",
    "from IPython.display import Image, display, Markdown"
   ]
  },
  {
   "cell_type": "code",
   "execution_count": 4,
   "metadata": {
    "execution": {
     "iopub.execute_input": "2025-04-20T18:32:56.872022Z",
     "iopub.status.busy": "2025-04-20T18:32:56.871196Z",
     "iopub.status.idle": "2025-04-20T18:32:57.952019Z",
     "shell.execute_reply": "2025-04-20T18:32:57.950838Z",
     "shell.execute_reply.started": "2025-04-20T18:32:56.871992Z"
    },
    "trusted": true
   },
   "outputs": [],
   "source": [
    "images_df = pd.read_csv('/kaggle/input/fashion-product-images-dataset/fashion-dataset/images.csv')\n",
    "styles_df = pd.read_csv('/kaggle/input/fashion-product-images-dataset/fashion-dataset/styles.csv', on_bad_lines='skip')\n",
    "\n",
    "images_df['id'] = images_df['filename'].str.split('.').str[0]\n",
    "images_df['id'] = images_df['id'].astype('int')\n",
    "merged_df = styles_df.merge(images_df, left_on = 'id', right_on='id', how='left')"
   ]
  },
  {
   "cell_type": "code",
   "execution_count": 5,
   "metadata": {
    "execution": {
     "iopub.execute_input": "2025-04-20T18:33:26.578433Z",
     "iopub.status.busy": "2025-04-20T18:33:26.577220Z",
     "iopub.status.idle": "2025-04-20T18:33:27.467986Z",
     "shell.execute_reply": "2025-04-20T18:33:27.467048Z",
     "shell.execute_reply.started": "2025-04-20T18:33:26.578383Z"
    },
    "trusted": true
   },
   "outputs": [],
   "source": [
    "merged_df['description'] = merged_df.apply(\n",
    "    lambda x: f\"{x['productDisplayName']}, {x['masterCategory']}, {x['subCategory']}, {x['articleType']}, {x['baseColour']}, {x['usage']}, {x['gender']}, {x['season']}\", axis=1\n",
    ")"
   ]
  },
  {
   "cell_type": "code",
   "execution_count": 6,
   "metadata": {
    "execution": {
     "iopub.execute_input": "2025-04-20T18:33:31.030093Z",
     "iopub.status.busy": "2025-04-20T18:33:31.029751Z",
     "iopub.status.idle": "2025-04-20T18:33:31.060865Z",
     "shell.execute_reply": "2025-04-20T18:33:31.059756Z",
     "shell.execute_reply.started": "2025-04-20T18:33:31.030066Z"
    },
    "trusted": true
   },
   "outputs": [
    {
     "data": {
      "text/html": [
       "<div>\n",
       "<style scoped>\n",
       "    .dataframe tbody tr th:only-of-type {\n",
       "        vertical-align: middle;\n",
       "    }\n",
       "\n",
       "    .dataframe tbody tr th {\n",
       "        vertical-align: top;\n",
       "    }\n",
       "\n",
       "    .dataframe thead th {\n",
       "        text-align: right;\n",
       "    }\n",
       "</style>\n",
       "<table border=\"1\" class=\"dataframe\">\n",
       "  <thead>\n",
       "    <tr style=\"text-align: right;\">\n",
       "      <th></th>\n",
       "      <th>id</th>\n",
       "      <th>gender</th>\n",
       "      <th>masterCategory</th>\n",
       "      <th>subCategory</th>\n",
       "      <th>articleType</th>\n",
       "      <th>baseColour</th>\n",
       "      <th>season</th>\n",
       "      <th>year</th>\n",
       "      <th>usage</th>\n",
       "      <th>productDisplayName</th>\n",
       "      <th>filename</th>\n",
       "      <th>link</th>\n",
       "      <th>description</th>\n",
       "    </tr>\n",
       "  </thead>\n",
       "  <tbody>\n",
       "    <tr>\n",
       "      <th>0</th>\n",
       "      <td>15970</td>\n",
       "      <td>Men</td>\n",
       "      <td>Apparel</td>\n",
       "      <td>Topwear</td>\n",
       "      <td>Shirts</td>\n",
       "      <td>Navy Blue</td>\n",
       "      <td>Fall</td>\n",
       "      <td>2011.0</td>\n",
       "      <td>Casual</td>\n",
       "      <td>Turtle Check Men Navy Blue Shirt</td>\n",
       "      <td>15970.jpg</td>\n",
       "      <td>http://assets.myntassets.com/v1/images/style/p...</td>\n",
       "      <td>Turtle Check Men Navy Blue Shirt, Apparel, Top...</td>\n",
       "    </tr>\n",
       "    <tr>\n",
       "      <th>1</th>\n",
       "      <td>39386</td>\n",
       "      <td>Men</td>\n",
       "      <td>Apparel</td>\n",
       "      <td>Bottomwear</td>\n",
       "      <td>Jeans</td>\n",
       "      <td>Blue</td>\n",
       "      <td>Summer</td>\n",
       "      <td>2012.0</td>\n",
       "      <td>Casual</td>\n",
       "      <td>Peter England Men Party Blue Jeans</td>\n",
       "      <td>39386.jpg</td>\n",
       "      <td>http://assets.myntassets.com/v1/images/style/p...</td>\n",
       "      <td>Peter England Men Party Blue Jeans, Apparel, B...</td>\n",
       "    </tr>\n",
       "    <tr>\n",
       "      <th>2</th>\n",
       "      <td>59263</td>\n",
       "      <td>Women</td>\n",
       "      <td>Accessories</td>\n",
       "      <td>Watches</td>\n",
       "      <td>Watches</td>\n",
       "      <td>Silver</td>\n",
       "      <td>Winter</td>\n",
       "      <td>2016.0</td>\n",
       "      <td>Casual</td>\n",
       "      <td>Titan Women Silver Watch</td>\n",
       "      <td>59263.jpg</td>\n",
       "      <td>http://assets.myntassets.com/v1/images/style/p...</td>\n",
       "      <td>Titan Women Silver Watch, Accessories, Watches...</td>\n",
       "    </tr>\n",
       "    <tr>\n",
       "      <th>3</th>\n",
       "      <td>21379</td>\n",
       "      <td>Men</td>\n",
       "      <td>Apparel</td>\n",
       "      <td>Bottomwear</td>\n",
       "      <td>Track Pants</td>\n",
       "      <td>Black</td>\n",
       "      <td>Fall</td>\n",
       "      <td>2011.0</td>\n",
       "      <td>Casual</td>\n",
       "      <td>Manchester United Men Solid Black Track Pants</td>\n",
       "      <td>21379.jpg</td>\n",
       "      <td>http://assets.myntassets.com/v1/images/style/p...</td>\n",
       "      <td>Manchester United Men Solid Black Track Pants,...</td>\n",
       "    </tr>\n",
       "    <tr>\n",
       "      <th>4</th>\n",
       "      <td>53759</td>\n",
       "      <td>Men</td>\n",
       "      <td>Apparel</td>\n",
       "      <td>Topwear</td>\n",
       "      <td>Tshirts</td>\n",
       "      <td>Grey</td>\n",
       "      <td>Summer</td>\n",
       "      <td>2012.0</td>\n",
       "      <td>Casual</td>\n",
       "      <td>Puma Men Grey T-shirt</td>\n",
       "      <td>53759.jpg</td>\n",
       "      <td>http://assets.myntassets.com/v1/images/style/p...</td>\n",
       "      <td>Puma Men Grey T-shirt, Apparel, Topwear, Tshir...</td>\n",
       "    </tr>\n",
       "  </tbody>\n",
       "</table>\n",
       "</div>"
      ],
      "text/plain": [
       "      id gender masterCategory subCategory  articleType baseColour  season  \\\n",
       "0  15970    Men        Apparel     Topwear       Shirts  Navy Blue    Fall   \n",
       "1  39386    Men        Apparel  Bottomwear        Jeans       Blue  Summer   \n",
       "2  59263  Women    Accessories     Watches      Watches     Silver  Winter   \n",
       "3  21379    Men        Apparel  Bottomwear  Track Pants      Black    Fall   \n",
       "4  53759    Men        Apparel     Topwear      Tshirts       Grey  Summer   \n",
       "\n",
       "     year   usage                             productDisplayName   filename  \\\n",
       "0  2011.0  Casual               Turtle Check Men Navy Blue Shirt  15970.jpg   \n",
       "1  2012.0  Casual             Peter England Men Party Blue Jeans  39386.jpg   \n",
       "2  2016.0  Casual                       Titan Women Silver Watch  59263.jpg   \n",
       "3  2011.0  Casual  Manchester United Men Solid Black Track Pants  21379.jpg   \n",
       "4  2012.0  Casual                          Puma Men Grey T-shirt  53759.jpg   \n",
       "\n",
       "                                                link  \\\n",
       "0  http://assets.myntassets.com/v1/images/style/p...   \n",
       "1  http://assets.myntassets.com/v1/images/style/p...   \n",
       "2  http://assets.myntassets.com/v1/images/style/p...   \n",
       "3  http://assets.myntassets.com/v1/images/style/p...   \n",
       "4  http://assets.myntassets.com/v1/images/style/p...   \n",
       "\n",
       "                                         description  \n",
       "0  Turtle Check Men Navy Blue Shirt, Apparel, Top...  \n",
       "1  Peter England Men Party Blue Jeans, Apparel, B...  \n",
       "2  Titan Women Silver Watch, Accessories, Watches...  \n",
       "3  Manchester United Men Solid Black Track Pants,...  \n",
       "4  Puma Men Grey T-shirt, Apparel, Topwear, Tshir...  "
      ]
     },
     "execution_count": 6,
     "metadata": {},
     "output_type": "execute_result"
    }
   ],
   "source": [
    "merged_df.head()"
   ]
  },
  {
   "cell_type": "code",
   "execution_count": 7,
   "metadata": {
    "execution": {
     "iopub.execute_input": "2025-04-20T18:33:31.507808Z",
     "iopub.status.busy": "2025-04-20T18:33:31.507340Z",
     "iopub.status.idle": "2025-04-20T18:38:53.727003Z",
     "shell.execute_reply": "2025-04-20T18:38:53.725840Z",
     "shell.execute_reply.started": "2025-04-20T18:33:31.507775Z"
    },
    "trusted": true
   },
   "outputs": [
    {
     "data": {
      "application/vnd.jupyter.widget-view+json": {
       "model_id": "a7bae5529ef34d18a832be9313ffb092",
       "version_major": 2,
       "version_minor": 0
      },
      "text/plain": [
       "modules.json:   0%|          | 0.00/349 [00:00<?, ?B/s]"
      ]
     },
     "metadata": {},
     "output_type": "display_data"
    },
    {
     "data": {
      "application/vnd.jupyter.widget-view+json": {
       "model_id": "a54048f1a23b47938b62b475f1536c6f",
       "version_major": 2,
       "version_minor": 0
      },
      "text/plain": [
       "config_sentence_transformers.json:   0%|          | 0.00/116 [00:00<?, ?B/s]"
      ]
     },
     "metadata": {},
     "output_type": "display_data"
    },
    {
     "data": {
      "application/vnd.jupyter.widget-view+json": {
       "model_id": "fb791db8bd2c4d80b44b7049a2fb38a9",
       "version_major": 2,
       "version_minor": 0
      },
      "text/plain": [
       "README.md:   0%|          | 0.00/10.5k [00:00<?, ?B/s]"
      ]
     },
     "metadata": {},
     "output_type": "display_data"
    },
    {
     "data": {
      "application/vnd.jupyter.widget-view+json": {
       "model_id": "8d9c8313ea02409d96d1137eafa8742f",
       "version_major": 2,
       "version_minor": 0
      },
      "text/plain": [
       "sentence_bert_config.json:   0%|          | 0.00/53.0 [00:00<?, ?B/s]"
      ]
     },
     "metadata": {},
     "output_type": "display_data"
    },
    {
     "data": {
      "application/vnd.jupyter.widget-view+json": {
       "model_id": "c96e536abf604fff88a657cee3f931d0",
       "version_major": 2,
       "version_minor": 0
      },
      "text/plain": [
       "config.json:   0%|          | 0.00/612 [00:00<?, ?B/s]"
      ]
     },
     "metadata": {},
     "output_type": "display_data"
    },
    {
     "name": "stderr",
     "output_type": "stream",
     "text": [
      "Xet Storage is enabled for this repo, but the 'hf_xet' package is not installed. Falling back to regular HTTP download. For better performance, install the package with: `pip install huggingface_hub[hf_xet]` or `pip install hf_xet`\n"
     ]
    },
    {
     "data": {
      "application/vnd.jupyter.widget-view+json": {
       "model_id": "caf728dc4ead4811805e8b0a49041033",
       "version_major": 2,
       "version_minor": 0
      },
      "text/plain": [
       "model.safetensors:   0%|          | 0.00/90.9M [00:00<?, ?B/s]"
      ]
     },
     "metadata": {},
     "output_type": "display_data"
    },
    {
     "data": {
      "application/vnd.jupyter.widget-view+json": {
       "model_id": "7fa9efcaf4664d8b948c57bb1f02e1b8",
       "version_major": 2,
       "version_minor": 0
      },
      "text/plain": [
       "tokenizer_config.json:   0%|          | 0.00/350 [00:00<?, ?B/s]"
      ]
     },
     "metadata": {},
     "output_type": "display_data"
    },
    {
     "data": {
      "application/vnd.jupyter.widget-view+json": {
       "model_id": "167f904c1566492aad53bbde1b6bae95",
       "version_major": 2,
       "version_minor": 0
      },
      "text/plain": [
       "vocab.txt:   0%|          | 0.00/232k [00:00<?, ?B/s]"
      ]
     },
     "metadata": {},
     "output_type": "display_data"
    },
    {
     "data": {
      "application/vnd.jupyter.widget-view+json": {
       "model_id": "f76b612d01cd4dfeb150f47e26001903",
       "version_major": 2,
       "version_minor": 0
      },
      "text/plain": [
       "tokenizer.json:   0%|          | 0.00/466k [00:00<?, ?B/s]"
      ]
     },
     "metadata": {},
     "output_type": "display_data"
    },
    {
     "data": {
      "application/vnd.jupyter.widget-view+json": {
       "model_id": "9b8eb22b4f824aa0b497e29f83421c3b",
       "version_major": 2,
       "version_minor": 0
      },
      "text/plain": [
       "special_tokens_map.json:   0%|          | 0.00/112 [00:00<?, ?B/s]"
      ]
     },
     "metadata": {},
     "output_type": "display_data"
    },
    {
     "data": {
      "application/vnd.jupyter.widget-view+json": {
       "model_id": "cf593f6dcf1147ba989b022d1775dc5b",
       "version_major": 2,
       "version_minor": 0
      },
      "text/plain": [
       "config.json:   0%|          | 0.00/190 [00:00<?, ?B/s]"
      ]
     },
     "metadata": {},
     "output_type": "display_data"
    },
    {
     "data": {
      "application/vnd.jupyter.widget-view+json": {
       "model_id": "ee1629d4d7fc4dbab6485345a3e52951",
       "version_major": 2,
       "version_minor": 0
      },
      "text/plain": [
       "Batches:   0%|          | 0/1389 [00:00<?, ?it/s]"
      ]
     },
     "metadata": {},
     "output_type": "display_data"
    }
   ],
   "source": [
    "embedder = SentenceTransformer('all-MiniLM-L6-v2')\n",
    "embeddings = embedder.encode(merged_df['description'].tolist())"
   ]
  },
  {
   "cell_type": "code",
   "execution_count": 8,
   "metadata": {
    "execution": {
     "iopub.execute_input": "2025-04-20T18:38:58.373159Z",
     "iopub.status.busy": "2025-04-20T18:38:58.372820Z",
     "iopub.status.idle": "2025-04-20T18:38:58.380606Z",
     "shell.execute_reply": "2025-04-20T18:38:58.379314Z",
     "shell.execute_reply.started": "2025-04-20T18:38:58.373125Z"
    },
    "trusted": true
   },
   "outputs": [],
   "source": [
    "def cosine_similarity(a, b):\n",
    "    a_norm = np.linalg.norm(a)\n",
    "    b_norm = np.linalg.norm(b)\n",
    "    return np.dot(a, b) / (a_norm * b_norm)\n",
    "\n",
    "def retrieve_products(user_query, top_k=5):\n",
    "    query_embedding = embedder.encode([user_query])[0]\n",
    "    similarities = np.array([cosine_similarity(query_embedding, emb) for emb in embeddings])\n",
    "    top_indices = np.argsort(similarities)[::-1][:top_k]\n",
    "    return merged_df.iloc[top_indices]"
   ]
  },
  {
   "cell_type": "code",
   "execution_count": 9,
   "metadata": {
    "execution": {
     "iopub.execute_input": "2025-04-20T18:38:59.989615Z",
     "iopub.status.busy": "2025-04-20T18:38:59.989254Z",
     "iopub.status.idle": "2025-04-20T18:38:59.995711Z",
     "shell.execute_reply": "2025-04-20T18:38:59.994710Z",
     "shell.execute_reply.started": "2025-04-20T18:38:59.989590Z"
    },
    "trusted": true
   },
   "outputs": [],
   "source": [
    "def show_product_images(df, local_folder_path=None, hosted_url_prefix=None):\n",
    "    for _, row in df.iterrows():\n",
    "        if local_folder_path:\n",
    "            image_path = f\"{local_folder_path}/{row['filename']}.jpg\"\n",
    "            display(Image(filename=image_path))\n",
    "        elif hosted_url_prefix:\n",
    "            image_url = f\"{row['link']}\"\n",
    "            print(row[['productDisplayName', 'masterCategory', 'subCategory', 'articleType', 'baseColour']])\n",
    "            display(Image(url=image_url))"
   ]
  },
  {
   "cell_type": "code",
   "execution_count": 10,
   "metadata": {
    "execution": {
     "iopub.execute_input": "2025-04-20T18:39:01.009700Z",
     "iopub.status.busy": "2025-04-20T18:39:01.009376Z",
     "iopub.status.idle": "2025-04-20T18:39:01.898033Z",
     "shell.execute_reply": "2025-04-20T18:39:01.896762Z",
     "shell.execute_reply.started": "2025-04-20T18:39:01.009681Z"
    },
    "trusted": true
   },
   "outputs": [],
   "source": [
    "from google import genai\n",
    "from google.genai import types\n",
    "\n",
    "from google.api_core import retry\n",
    "from google.colab import userdata\n",
    "\n",
    "from kaggle_secrets import UserSecretsClient\n",
    "user_secrets = UserSecretsClient()\n",
    "GOOGLE_API_KEY = user_secrets.get_secret(\"GOOGLE_API_KEY\")\n",
    "\n",
    "\n",
    "is_retriable = lambda e: (isinstance(e, genai.errors.APIError) and e.code in {429, 503})\n",
    "\n",
    "if not hasattr(genai.models.Models.generate_content, '__wrapped__'):\n",
    "  genai.models.Models.generate_content = retry.Retry(\n",
    "      predicate=is_retriable)(genai.models.Models.generate_content)\n",
    "client = genai.Client(api_key=GOOGLE_API_KEY)"
   ]
  },
  {
   "cell_type": "code",
   "execution_count": 11,
   "metadata": {
    "execution": {
     "iopub.execute_input": "2025-04-20T18:39:02.537854Z",
     "iopub.status.busy": "2025-04-20T18:39:02.537473Z",
     "iopub.status.idle": "2025-04-20T18:39:02.544908Z",
     "shell.execute_reply": "2025-04-20T18:39:02.543803Z",
     "shell.execute_reply.started": "2025-04-20T18:39:02.537831Z"
    },
    "trusted": true
   },
   "outputs": [],
   "source": [
    "def style_ai_agent(user_query, retrieved_products):\n",
    "    product_summaries = []\n",
    "    for _, row in retrieved_products.iterrows():\n",
    "        summary = (\n",
    "            f\"Product: {row['productDisplayName']}\\n\"\n",
    "            f\"Category: {row['masterCategory']} > {row['subCategory']} > {row['articleType']}\\n\"\n",
    "            f\"Color: {row['baseColour']}\\n\"\n",
    "            f\"Usage: {row['usage']}\\n\"\n",
    "        )\n",
    "        product_summaries.append(summary)\n",
    "\n",
    "    combined_summaries = \"\\n\".join(product_summaries)\n",
    "\n",
    "    prompt = (\n",
    "        f\"You are a professional fashion stylist AI agent.\\n\\n\"\n",
    "        f\"A user is looking for: \\\"{user_query}\\\"\\n\\n\"\n",
    "        f\"Here are 5 relevant products retrieved from the fashion catalog:\\n\"\n",
    "        f\"{combined_summaries}\\n\\n\"\n",
    "        \"Based on these:\\n\"\n",
    "        \"- Suggest which product would best match the user's query.\\n\"\n",
    "        \"- Explain your reasoning.\\n\"\n",
    "        \"- Recommend how to style this outfit (accessories, shoes, bag etc.)\\n\"\n",
    "        \"- Optionally suggest color coordination and occasion-fit tips.\"\n",
    "    )\n",
    "    response = client.models.generate_content(\n",
    "    model=\"gemini-2.0-flash\",\n",
    "    contents=prompt)\n",
    " \n",
    "    return response.text"
   ]
  },
  {
   "cell_type": "code",
   "execution_count": 12,
   "metadata": {
    "execution": {
     "iopub.execute_input": "2025-04-20T18:39:04.514439Z",
     "iopub.status.busy": "2025-04-20T18:39:04.514071Z",
     "iopub.status.idle": "2025-04-20T18:39:04.907398Z",
     "shell.execute_reply": "2025-04-20T18:39:04.906126Z",
     "shell.execute_reply.started": "2025-04-20T18:39:04.514414Z"
    },
    "trusted": true
   },
   "outputs": [
    {
     "data": {
      "application/vnd.jupyter.widget-view+json": {
       "model_id": "7cfc6d377a424da4ab2ae8a1bd03a224",
       "version_major": 2,
       "version_minor": 0
      },
      "text/plain": [
       "Batches:   0%|          | 0/1 [00:00<?, ?it/s]"
      ]
     },
     "metadata": {},
     "output_type": "display_data"
    }
   ],
   "source": [
    "user_query = \"vibrant dress for brunch\"\n",
    "retrieved_products = retrieve_products(user_query, top_k=5)"
   ]
  },
  {
   "cell_type": "code",
   "execution_count": 13,
   "metadata": {
    "execution": {
     "iopub.execute_input": "2025-04-20T18:39:06.641260Z",
     "iopub.status.busy": "2025-04-20T18:39:06.640899Z",
     "iopub.status.idle": "2025-04-20T18:39:06.665992Z",
     "shell.execute_reply": "2025-04-20T18:39:06.665015Z",
     "shell.execute_reply.started": "2025-04-20T18:39:06.641220Z"
    },
    "trusted": true
   },
   "outputs": [
    {
     "name": "stdout",
     "output_type": "stream",
     "text": [
      "productDisplayName    Forever New Women's Waterfall Sleeve Shift Bla...\n",
      "masterCategory                                                  Apparel\n",
      "subCategory                                                       Dress\n",
      "articleType                                                     Dresses\n",
      "baseColour                                                        Black\n",
      "Name: 19261, dtype: object\n"
     ]
    },
    {
     "data": {
      "text/html": [
       "<img src=\"http://assets.myntassets.com/v1/images/style/properties/3a37f47b5c7559611f8fd87ede6decdd_images.jpg\"/>"
      ],
      "text/plain": [
       "<IPython.core.display.Image object>"
      ]
     },
     "metadata": {},
     "output_type": "display_data"
    },
    {
     "name": "stdout",
     "output_type": "stream",
     "text": [
      "productDisplayName    Mineral Blue & Green Printed Dress\n",
      "masterCategory                                   Apparel\n",
      "subCategory                                        Dress\n",
      "articleType                                      Dresses\n",
      "baseColour                                          Blue\n",
      "Name: 21139, dtype: object\n"
     ]
    },
    {
     "data": {
      "text/html": [
       "<img src=\"http://assets.myntassets.com/v1/images/style/properties/1765aebe92324be6f1120ef3147b1139_images.jpg\"/>"
      ],
      "text/plain": [
       "<IPython.core.display.Image object>"
      ]
     },
     "metadata": {},
     "output_type": "display_data"
    },
    {
     "name": "stdout",
     "output_type": "stream",
     "text": [
      "productDisplayName    Bwitch Turquiose Blue Nightdress\n",
      "masterCategory                                 Apparel\n",
      "subCategory                   Loungewear and Nightwear\n",
      "articleType                                 Nightdress\n",
      "baseColour                              Turquoise Blue\n",
      "Name: 13624, dtype: object\n"
     ]
    },
    {
     "data": {
      "text/html": [
       "<img src=\"http://assets.myntassets.com/v1/images/style/properties/e6061e03e9c9a45c2cc883cd12400896_images.jpg\"/>"
      ],
      "text/plain": [
       "<IPython.core.display.Image object>"
      ]
     },
     "metadata": {},
     "output_type": "display_data"
    },
    {
     "name": "stdout",
     "output_type": "stream",
     "text": [
      "productDisplayName    French Connection Teal & Brown Printed Dress\n",
      "masterCategory                                             Apparel\n",
      "subCategory                                                  Dress\n",
      "articleType                                                Dresses\n",
      "baseColour                                                    Teal\n",
      "Name: 29847, dtype: object\n"
     ]
    },
    {
     "data": {
      "text/html": [
       "<img src=\"http://assets.myntassets.com/v1/images/style/properties/French-Connection-Teal---Brown-Dress_65450b4ba2b7f3979d0d71a86bb13680_images.jpg\"/>"
      ],
      "text/plain": [
       "<IPython.core.display.Image object>"
      ]
     },
     "metadata": {},
     "output_type": "display_data"
    },
    {
     "name": "stdout",
     "output_type": "stream",
     "text": [
      "productDisplayName    Forever New Women Blossom Silk Cream Dress\n",
      "masterCategory                                           Apparel\n",
      "subCategory                                                Dress\n",
      "articleType                                              Dresses\n",
      "baseColour                                                 Cream\n",
      "Name: 12511, dtype: object\n"
     ]
    },
    {
     "data": {
      "text/html": [
       "<img src=\"http://assets.myntassets.com/v1/images/style/properties/33abe02e37b16010b068ebc37de2b42a_images.jpg\"/>"
      ],
      "text/plain": [
       "<IPython.core.display.Image object>"
      ]
     },
     "metadata": {},
     "output_type": "display_data"
    }
   ],
   "source": [
    "show_product_images(retrieved_products, hosted_url_prefix=\" \")"
   ]
  },
  {
   "cell_type": "code",
   "execution_count": 14,
   "metadata": {
    "execution": {
     "iopub.execute_input": "2025-04-20T18:39:11.033427Z",
     "iopub.status.busy": "2025-04-20T18:39:11.032077Z",
     "iopub.status.idle": "2025-04-20T18:39:16.893632Z",
     "shell.execute_reply": "2025-04-20T18:39:16.892450Z",
     "shell.execute_reply.started": "2025-04-20T18:39:11.033383Z"
    },
    "trusted": true
   },
   "outputs": [
    {
     "data": {
      "text/markdown": [
       "Okay, based on the user's query \"vibrant dress for brunch\" and the provided product catalog, the **Mineral Blue & Green Printed Dress** is the best match.\n",
       "\n",
       "**Reasoning:**\n",
       "\n",
       "*   **Vibrant:** The description includes \"Blue & Green Printed,\" suggesting a colorful and lively design, which aligns with the \"vibrant\" requirement.\n",
       "*   **Dress:** It is explicitly categorized as a dress.\n",
       "*   **Brunch Appropriateness:** The \"Casual\" usage tag indicates it's suitable for a relaxed occasion like brunch.\n",
       "*   **Other Options:** The other dresses are less suitable:\n",
       "    *   The black and cream dresses are neutral and lack vibrancy.\n",
       "    *   The Turquoise Blue Nightdress, while vibrant in color, is categorized as nightwear and not appropriate for brunch.\n",
       "    *   The Teal & Brown Printed Dress might be colorful, but teal and brown can be more muted than vibrant, and the color combination might not be as brunch-appropriate.\n",
       "\n",
       "**Styling Recommendation for the Mineral Blue & Green Printed Dress:**\n",
       "\n",
       "To create a complete and stylish brunch outfit, here's how I recommend styling the dress:\n",
       "\n",
       "*   **Shoes:**\n",
       "    *   **Option 1 (Casual & Comfortable):** White sneakers or canvas shoes. This adds a relaxed and trendy vibe, perfect for a casual brunch.\n",
       "    *   **Option 2 (Slightly Dressier):** Nude or white espadrille wedges or sandals. These elevate the look a bit while still maintaining comfort.\n",
       "    *   **Color Coordination:** If the print has hints of yellow or orange, sandals in those colors would also work well.\n",
       "*   **Bag:**\n",
       "    *   **Option 1 (Crossbody/Shoulder Bag):** A small to medium-sized crossbody bag or shoulder bag in a neutral color like beige, white, or a light brown. This is practical and keeps your hands free.\n",
       "    *   **Option 2 (Straw/Woven Bag):** A straw tote bag or a woven bag would complement the casual brunch vibe perfectly.\n",
       "*   **Accessories:**\n",
       "    *   **Jewelry:** Keep it simple. A delicate gold or silver necklace, small hoop earrings, or a simple bracelet would be ideal. Avoid anything too flashy.\n",
       "    *   **Sunglasses:** Stylish sunglasses are a must for a sunny brunch. Choose a shape that complements your face.\n",
       "    *   **Hat (Optional):** A wide-brimmed straw hat can add a touch of elegance and protect you from the sun if you're dining outdoors.\n",
       "    *   **Light Layer (If Needed):** If the weather is unpredictable, bring a light denim jacket, a white cardigan, or a linen blazer.\n",
       "*   **Hair & Makeup:**\n",
       "    *   **Hair:** Style your hair in a relaxed way – loose waves, a messy bun, or a simple ponytail.\n",
       "    *   **Makeup:** Opt for a natural and fresh makeup look. A tinted moisturizer, light blush, mascara, and a tinted lip balm or gloss will suffice.\n",
       "\n",
       "**Color Coordination and Occasion-Fit Tips:**\n",
       "\n",
       "*   **Color Coordination:** Focus on complementing the blue and green in the dress print. Nude, white, beige, and light browns are safe and versatile choices. If you want to add a pop of color, consider accessories in coral, yellow, or a lighter shade of green or blue, depending on the specific shades in the print.\n",
       "*   **Occasion-Fit:** Brunch is generally a relaxed and daytime affair. Avoid anything too formal or overtly sexy. The key is to look stylish and put-together while remaining comfortable. The Mineral Blue & Green Printed Dress, when styled as suggested, perfectly balances these elements.\n"
      ],
      "text/plain": [
       "<IPython.core.display.Markdown object>"
      ]
     },
     "execution_count": 14,
     "metadata": {},
     "output_type": "execute_result"
    }
   ],
   "source": [
    "advice = style_ai_agent(user_query, retrieved_products)\n",
    "Markdown(advice)"
   ]
  },
  {
   "cell_type": "code",
   "execution_count": null,
   "metadata": {
    "trusted": true
   },
   "outputs": [],
   "source": []
  }
 ],
 "metadata": {
  "kernelspec": {
   "display_name": "Python 3",
   "language": "python",
   "name": "python3"
  },
  "language_info": {
   "codemirror_mode": {
    "name": "ipython",
    "version": 3
   },
   "file_extension": ".py",
   "mimetype": "text/x-python",
   "name": "python",
   "nbconvert_exporter": "python",
   "pygments_lexer": "ipython3",
   "version": "3.11.11"
  }
 },
 "nbformat": 4,
 "nbformat_minor": 4
}
